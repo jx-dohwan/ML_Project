{
 "cells": [
  {
   "cell_type": "markdown",
   "metadata": {},
   "source": [
    "# 네이버 뉴스 데이터 가져오기\n",
    "\n",
    "> 1. 네이버 오픈 API로 기사 URL 크롤링\n",
    "> 2. bs4 + selenium으로 기사 제목 및 내용 크롤링"
   ]
  },
  {
   "cell_type": "code",
   "execution_count": 6,
   "metadata": {},
   "outputs": [],
   "source": [
    "import os\n",
    "import sys\n",
    "import urllib.request\n",
    "import requests\n",
    "\n",
    "news_data = []\n",
    "\n",
    "page_count = 3\n",
    "\n",
    "client_id = \"FZ67wgW6UAbI4UUIELOl\"\n",
    "client_secret = \"PPyO_d8wIQ\" # 발급받은 client_secret\n",
    "encText = urllib.parse.quote(\"파이썬\")\n",
    "\n",
    "for idx in range(page_count):\n",
    "    url = \"https://openapi.naver.com/v1/search/news?query=\" + encText +\"&start=\" + str(idx * 10 +1)# json 결과\n",
    "    # url = \"https://openapi.naver.com/v1/search/blog.xml?query=\" + encText # xml 결과\n",
    "\n",
    "\n",
    "    request = urllib.request.Request(url)\n",
    "    request.add_header(\"X-Naver-Client-Id\",client_id)\n",
    "    request.add_header(\"X-Naver-Client-Secret\",client_secret)\n",
    "    response = urllib.request.urlopen(request)\n",
    "    rescode = response.getcode()\n",
    "\n",
    "\n",
    "    if(rescode==200):\n",
    "        # response_body = response.read()\n",
    "        result = requests.get(response.geturl(),\n",
    "                            headers={\"X-Naver-Client-Id\":client_id,\n",
    "                                    \"X-Naver-Client-Secret\":client_secret}\n",
    "                            )\n",
    "        news_data.append(result.json())\n",
    "        # print(response_body.decode('utf-8'))\n",
    "    else:\n",
    "        print(\"Error Code:\" + rescode)"
   ]
  },
  {
   "cell_type": "markdown",
   "metadata": {},
   "source": [
    "### 네이버 OPEN API를 통해 가져온 데이터 확인하기."
   ]
  },
  {
   "cell_type": "code",
   "execution_count": 7,
   "metadata": {},
   "outputs": [
    {
     "data": {
      "text/plain": [
       "'http://www.newsway.co.kr/news/view?tp=1&ud=2022011317585132477'"
      ]
     },
     "execution_count": 7,
     "metadata": {},
     "output_type": "execute_result"
    }
   ],
   "source": [
    "news_data[0]['items'][0]['link']"
   ]
  },
  {
   "cell_type": "markdown",
   "metadata": {},
   "source": [
    "### 가져온 URL이 네이버 뉴스인지 확인하기."
   ]
  },
  {
   "cell_type": "code",
   "execution_count": 12,
   "metadata": {},
   "outputs": [
    {
     "name": "stdout",
     "output_type": "stream",
     "text": [
      "https://news.naver.com/main/read.naver?mode=LSD&mid=sec&sid1=105&oid=009&aid=0004908366\n",
      "https://news.naver.com/main/read.naver?mode=LSD&mid=sec&sid1=105&oid=092&aid=0002244854\n",
      "https://news.naver.com/main/read.naver?mode=LSD&mid=sec&sid1=101&oid=011&aid=0004007576\n",
      "https://news.naver.com/main/read.naver?mode=LSD&mid=sec&sid1=102&oid=030&aid=0002993463\n",
      "https://news.naver.com/main/read.naver?mode=LSD&mid=sec&sid1=105&oid=138&aid=0002116992\n",
      "https://news.naver.com/main/read.naver?mode=LSD&mid=sec&sid1=101&oid=011&aid=0004006907\n",
      "https://news.naver.com/main/read.naver?mode=LSD&mid=sec&sid1=101&oid=029&aid=0002715336\n",
      "https://news.naver.com/main/read.naver?mode=LSD&mid=sec&sid1=105&oid=092&aid=0002244490\n"
     ]
    }
   ],
   "source": [
    "naver_news_link = []\n",
    "\n",
    "for page in news_data:\n",
    "\n",
    "    page_news_link = []\n",
    "\n",
    "    for item in page['items']:\n",
    "        link = item['link']\n",
    "        if \"naver\" in link:\n",
    "            page_news_link.append(link)\n",
    "\n",
    "    naver_news_link.append(page_news_link)\n",
    "\n",
    "for page in naver_news_link:\n",
    "    for link in page:   \n",
    "      print(link)\n"
   ]
  },
  {
   "cell_type": "markdown",
   "metadata": {},
   "source": [
    "### 네이버 뉴스 기사 크롤링!"
   ]
  },
  {
   "cell_type": "code",
   "execution_count": 5,
   "metadata": {},
   "outputs": [],
   "source": [
    "import pandas as pd\n",
    "import numpy as np\n",
    "from selenium import webdriver\n",
    "from tqdm import tqdm_notebook\n",
    "import requests\n",
    "import pickle\n",
    "import re\n",
    "import ast\n",
    "\n",
    "from bs4 import BeautifulSoup \n",
    "from urllib.request import urlopen\n",
    "import urllib\n",
    "import time"
   ]
  },
  {
   "cell_type": "code",
   "execution_count": 10,
   "metadata": {},
   "outputs": [
    {
     "name": "stderr",
     "output_type": "stream",
     "text": [
      "C:\\Users\\jx778\\AppData\\Local\\Temp/ipykernel_7068/887318981.py:3: DeprecationWarning: executable_path has been deprecated, please pass in a Service object\n",
      "  driver = webdriver.Chrome(\"./chromedriver.exe\")\n"
     ]
    }
   ],
   "source": [
    "# 가상 크롬드라이버를 불러옴.\n",
    "# 윈도우 10의 경우 chromedriver.exe\n",
    "driver = webdriver.Chrome(\"./chromedriver.exe\")"
   ]
  },
  {
   "cell_type": "code",
   "execution_count": 14,
   "metadata": {},
   "outputs": [
    {
     "name": "stderr",
     "output_type": "stream",
     "text": [
      "C:\\Users\\jx778\\AppData\\Local\\Temp/ipykernel_7068/3096456725.py:5: TqdmDeprecationWarning: This function will be removed in tqdm==5.0.0\n",
      "Please use `tqdm.notebook.tqdm` instead of `tqdm.tqdm_notebook`\n",
      "  for n in tqdm_notebook(range(len(naver_news_link))):\n"
     ]
    },
    {
     "data": {
      "application/vnd.jupyter.widget-view+json": {
       "model_id": "d1908b3f8caa4d9096e8aab676f9f41d",
       "version_major": 2,
       "version_minor": 0
      },
      "text/plain": [
       "  0%|          | 0/3 [00:00<?, ?it/s]"
      ]
     },
     "metadata": {},
     "output_type": "display_data"
    },
    {
     "name": "stderr",
     "output_type": "stream",
     "text": [
      "C:\\Users\\jx778\\AppData\\Local\\Temp/ipykernel_7068/3096456725.py:10: TqdmDeprecationWarning: This function will be removed in tqdm==5.0.0\n",
      "Please use `tqdm.notebook.tqdm` instead of `tqdm.tqdm_notebook`\n",
      "  for idx in tqdm_notebook(range(len(naver_news_link[n]))):\n"
     ]
    },
    {
     "data": {
      "application/vnd.jupyter.widget-view+json": {
       "model_id": "f5b5a60c6c38455d9a8d4bbf2a1c66ff",
       "version_major": 2,
       "version_minor": 0
      },
      "text/plain": [
       "  0%|          | 0/3 [00:00<?, ?it/s]"
      ]
     },
     "metadata": {},
     "output_type": "display_data"
    },
    {
     "name": "stdout",
     "output_type": "stream",
     "text": [
      "https://news.naver.com/main/read.naver?mode=LSD&mid=sec&sid1=105&oid=009&aid=0004908366\n",
      "https://news.naver.com/main/read.naver?mode=LSD&mid=sec&sid1=105&oid=092&aid=0002244854\n",
      "https://news.naver.com/main/read.naver?mode=LSD&mid=sec&sid1=101&oid=011&aid=0004007576\n"
     ]
    },
    {
     "data": {
      "application/vnd.jupyter.widget-view+json": {
       "model_id": "263a7548311041788533f1cd894934eb",
       "version_major": 2,
       "version_minor": 0
      },
      "text/plain": [
       "  0%|          | 0/3 [00:00<?, ?it/s]"
      ]
     },
     "metadata": {},
     "output_type": "display_data"
    },
    {
     "name": "stdout",
     "output_type": "stream",
     "text": [
      "https://news.naver.com/main/read.naver?mode=LSD&mid=sec&sid1=102&oid=030&aid=0002993463\n",
      "https://news.naver.com/main/read.naver?mode=LSD&mid=sec&sid1=105&oid=138&aid=0002116992\n",
      "https://news.naver.com/main/read.naver?mode=LSD&mid=sec&sid1=101&oid=011&aid=0004006907\n"
     ]
    },
    {
     "data": {
      "application/vnd.jupyter.widget-view+json": {
       "model_id": "e35810e43801447d855ee2a5308308b6",
       "version_major": 2,
       "version_minor": 0
      },
      "text/plain": [
       "  0%|          | 0/2 [00:00<?, ?it/s]"
      ]
     },
     "metadata": {},
     "output_type": "display_data"
    },
    {
     "name": "stdout",
     "output_type": "stream",
     "text": [
      "https://news.naver.com/main/read.naver?mode=LSD&mid=sec&sid1=101&oid=029&aid=0002715336\n",
      "https://news.naver.com/main/read.naver?mode=LSD&mid=sec&sid1=105&oid=092&aid=0002244490\n",
      "['엘리스, ‘K-디지털 크레딧’ 과정 교육생 모집', '엘리스, ‘K-디지털 크레딧’ 과정 교육생 모집', '엘리스, ‘K-디지털 크레딧’ 과정 교육생 모집···\"100% 무료 수강\"']\n",
      "==================================\n",
      "['   본문 내용     TV플레이어     // TV플레이어     // flash 오류를 우회하기 위한 함수 추가 function _flash_removeCallback() {}      디지털 교육 실습 플랫폼 엘리스(대표 김재원)가 무료 수강이 가능한 ‘ K- 디지털 크레딧( K-Digital   Credit ,  KDC )’의 새로운 교육생을 모집한다.  K- 디지털 크레딧은 고용노동부가 청년, 중장년 구직자의 디지털 기초역량을 강화하기 위해 마련한 직업훈련의 일환으로 코딩, 빅데이터, 앱 개발 등 디지털 신기술 분야에서 입문 과정부터 교육받을 수 있다. 정부가 전체 교육비의  90 %를 지원하며, 이수 후엔  10 % 자부담비도  100 % 환급된다.  엘리스는 탁월한 플랫폼 기술력과 운영 노하우를 집약해 괄목할 만한 성과를 거뒀다. 지난해  KDC  교육생은  2020 년 대비  150 % 이상 증가했고, 교육 만족도는 5점 만점에 약  4.9 점을 기록하며 가파른 증가세를 보이고 있다. 엘리스 교육과정의 특징은 실습 중심 교육으로 불필요한 요소를 최소화해 동기부여와 학습효과를 극대화했다는 점이다. 로그인만 하면 단 3초 만에 바로 코딩 학습이 가능하며, 화면 전환 없이 한 화면에서 영상을 보며 코드 작성 및 검토도 할 수 있다. 클릭 한 번으로 작성한 코드를 모두 확인받고, 1:1 튜터링을 통해 현직 개발자과 신속하게 질의응답하며 교육에 대한 이해도를 높인다.  엘리스는 참여 교육 업체 중 최대 규모인  37 개 과목을 운영하며 뛰어난 교육 역량과 전문성을 인정받았다. 파이썬,  SQL , 인공지능 분야에서 코딩 경험이 전혀 없는 입문자를 위한 과정에서 고급 과정까지 다채롭게 구성돼 원하는 과목을 자유롭게 선택하면 된다. 세부 과목은 ▲파이썬 기초 프로그래밍 ▲ SQL  기초 ▲ JAVA  웹 개발 ▲웹 페이지 제작 ▲파이썬 데이터 분석 ▲R 데이터 분석 ▲인공지능 수학 ▲심화 머신러닝/딥러닝 ▲코딩 테스트 대비 알고리즘 ▲리눅스 ▲ git ,  gitlab  추천 교육과정 ▲ MongoDB  ▲블록 코딩 등이다. 엘리스는 훈련생을 위한 다양한 혜택을 준비했다. 정해진 수강과목을 수료한 우수자에겐 부트캠프 선발 단계를 일부 면제해 개발자로서의 커리어 시작을 적극 돕는다. 교육 이수 시 교육과정 이수증도 수여해 개인 역량을 인증해 준다.   엘리스 김재원 대표는 “엘리스의 디지털 크레딧 과정은 강의를 듣고 즉시 실습할 수 있도록 구현해서 코딩을 쉽고 재미있게 시작할 수 있는 좋은 기회”라며, “앞으로 훈련생에게 보다 효과적인 맞춤형 교육을 실시하기 위해 교육 과정을 확대 및 고도화할 예정”이라고 말했다. 매일경제 조광현 연구원  r_start //  r_end //    // 본문 내용   ', \"   본문 내용     TV플레이어     // TV플레이어     // flash 오류를 우회하기 위한 함수 추가 function _flash_removeCallback() {}    정부가 교육비  90 % 지원...이수 후 자기부담비 환급 디지털 교육 실습 플랫폼 엘리스가 무료 수강이 가능한 ‘ K- 디지털 크레딧( K-Digital   Credit ,  KDC )’ 새 교육생을 모집한다고  13 일 밝혔다. K- 디지털 크레딧은 고용노동부가 청년, 중장년 구직자 디지털 기초역량을 강화하기 위해 마련한 직업훈련으로, 수강생은 코딩, 빅데이터, 앱 개발 등 디지털 신기술 분야 입문 과정부터 교육받을 수 있다. 정부가 전체 교육비의  90 %를 지원하며, 이수 후엔  10 % 자부담비도  100 % 환급된다. 지난해  KDC  교육생은 전년동기 대비  150 % 이상 증가했고, 교육 만족도는 5점 만점에 약  4.9 점을 기록했다. 엘리스는 참여 교육 업체 중 최대 규모인  37 개 과목을 운영하며, 파이썬,  SQL , 인공지능 분야에서 코딩 경험이 전혀 없는 입문자를 위한 과정에서 고급 과정까지 구성헤 이용자가 원하는 과목을 자유롭게 선택할 수 있다. 엘리스  'K- 디지털 크레딧' 과정 세부 과목은 ▲파이썬 기초 프로그래밍 ▲ SQL  기초 ▲ JAVA  웹 개발 ▲웹 페이지 제작 ▲파이썬 데이터 분석 ▲R 데이터 분석 ▲인공지능 수학 ▲심화 머신러닝·딥러닝 ▲코딩 테스트 대비 알고리즘 ▲리눅스 ▲ git ,  gitlab  추천 교육과정 ▲ MongoDB  ▲블록 코딩 등이다. 엘리스 교육과정 특징은 실습 중심 교육으로 불필요한 요소를 최소화해 동기부여와 학습효과를 극대화했다는 점이다. 로그인만 하면 3초 만에 코딩 학습이 가능하며, 화면 전환 없이 한 화면에서 영상을 보며 코드 작성과 검토를 할 수 있다. 클릭 한 번으로 작성한 코드를 모두 확인받고, 1:1 튜터링을 통해 현직 개발자과 신속하게 질의응답하며 교육에 대한 이해도를 높인다. 엘리스는 훈련생을 위한 다양한 혜택을 준비했다. 정해진 수강과목을 수료한 우수자에게 부트캠프 선발 단계를 일부 면제해 개발자로서의 커리어 시작을 적극 돕는다. 교육 이수 시 교육과정 이수증도 수여할 방침이다. 김재원 엘리스 대표는 “디지털 크레딧 과정은 강의를 듣고 즉시 실습할 수 있도록 구현해 코딩을 쉽고 재미있게 시작할 수 있는 좋은 기회”라며 “앞으로 훈련생에게 보다 효과적인 맞춤형 교육을 실시하기 위해 교육 과정을 확대, 고도화할 예정”이라고 말했다.    // 본문 내용   \", '   본문 내용     TV플레이어     // TV플레이어     // flash 오류를 우회하기 위한 함수 추가 function _flash_removeCallback() {}    [서울경제]  디지털 교육 실습 플랫폼 엘리스가 무료 수강이 가능한 ‘ K- 디지털 크레딧( K-Digital   Credit ,  KDC )’의 새로운 교육생을 모집한다고  13 일 밝혔다.  K- 디지털 크레딧은 고용노동부가 청년·중장년 구직자의 디지털 기초역량을 강화하기 위해 마련한 직업훈련의 일환이다. 코딩, 빅데이터, 앱 개발 등 디지털 신기술 분야에서 입문 과정부터 교육 받을 수 있다. 정부가 전체 교육비의  90 %를 지원하며 이수 후엔  10 % 교육생이 부담한 비용  10 %도 전부 환급된다. 엘리스는 탁월한 플랫폼 기술력과 운영 노하우를 집약해 괄목할 만한 성과를 거뒀다. 지난해  KDC  교육생은  2020 년 대비  150 % 이상 증가했고, 교육 만족도는 5점 만점에 약  4.9 점을 기록하며 가파른 증가세를 보이고 있다.  엘리스 교육과정의 특징은 실습 중심 교육으로 불필요한 요소를 최소화해 동기부여와 학습효과를 극대화했다는 점이다. 로그인만 하면 단 3초 만에 바로 코딩 학습이 가능하며, 화면 전환 없이 한 화면에서 영상을 보며 코드 작성 및 검토도 할 수 있다. 클릭 한 번으로 작성한 코드를 모두 확인받고, 1:1 튜터링을 통해 현직 개발자과 신속하게 질의응답하며 교육에 대한 이해도를 높인다. 엘리스는 참여 교육 업체 중 최대 규모인  37 개 과목을 운영하며 뛰어난 교육 역량과 전문성을 인정 받았다. 파이썬,  SQL , 인공지능 분야에서 코딩 경험이 전혀 없는 입문자를 위한 과정에서 고급 과정까지 다채롭게 구성돼 원하는 과목을 자유롭게 선택하면 된다.  세부 과목은 △파이썬 기초 프로그래밍 △ SQL  기초 △ JAVA  웹 개발 △웹 페이지 제작 △파이썬 데이터 분석 △R 데이터 분석 △인공지능 수학 △심화 머신러닝·딥러닝 △코딩 테스트 대비 알고리즘 △리눅스 △ git·gitlab  추천 교육과정 △ MongoDB  △블록 코딩 등이다. 김재원 엘리스 대표는 “엘리스의 디지털 크레딧 과정은 강의를 듣고 즉시 실습할 수 있도록 구현해서 코딩을 쉽고 재미있게 시작할 수 있는 좋은 기회”라며 “앞으로 훈련생에게 보다 효과적인 맞춤형 교육을 실시하기 위해 교육 과정을 확대 및 고도화할 예정”이라고 말했다.    // 본문 내용   ']\n"
     ]
    }
   ],
   "source": [
    "naver_news_title = []\n",
    "naver_news_content = []\n",
    "\n",
    "\n",
    "for n in tqdm_notebook(range(len(naver_news_link))):\n",
    "    #print(n)\n",
    "    news_page_title = []\n",
    "    news_page_content = []\n",
    "    \n",
    "    for idx in tqdm_notebook(range(len(naver_news_link[n]))):\n",
    "        \n",
    "        \n",
    "    ########### 긁어온 URL로 접속하기 ############    \n",
    "        try:\n",
    "            driver.get(naver_news_link[n][idx])\n",
    "            print(naver_news_link[n][idx])\n",
    "            \n",
    "        except:\n",
    "            print(\"Timeout!\")\n",
    "            continue\n",
    "        \n",
    "        \n",
    "        try:\n",
    "            response = driver.page_source\n",
    "            \n",
    "        except UnexpectedAlertPresentException:\n",
    "            driver.switch_to_alert().accept()\n",
    "            print(\"게시글이 삭제된 경우입니다.\")\n",
    "            continue\n",
    "        \n",
    "        soup = BeautifulSoup(response, \"html.parser\")\n",
    "        \n",
    "        ###### 뉴스 타이틀 긁어오기 ######\n",
    "        \n",
    "        title = None\n",
    "        \n",
    "        try:\n",
    "            item = soup.find('div', class_=\"article_info\")\n",
    "            title = item.find('h3', class_=\"tts_head\").get_text()\n",
    "            #print(title)\n",
    "\n",
    "        except:\n",
    "            title = \"OUTLINK\"\n",
    "        \n",
    "        #print(title)\n",
    "        news_page_title.append(title)\n",
    "        \n",
    "        \n",
    "        ###### 뉴스 본문 긁어오기 ######\n",
    "        \n",
    "        doc = None\n",
    "        text = \"\"\n",
    "                \n",
    "        data = soup.find_all(\"div\", {\"class\" : \"_article_body_contents\"})\n",
    "        if data:\n",
    "            for item in data:\n",
    "\n",
    "                text = text + str(item.find_all(text=True)).strip()\n",
    "                text = ast.literal_eval(text)\n",
    "                doc = ' '.join(text)\n",
    "   \n",
    "        else:\n",
    "            doc = \"OUTLINK\"\n",
    "            \n",
    "        news_page_content.append(doc.replace('\\n', ' '))\n",
    "\n",
    "                \n",
    "    naver_news_title.append(news_page_title)\n",
    "    naver_news_content.append(news_page_content)\n",
    "\n",
    "    time.sleep(2)\n",
    "    \n",
    "    \n",
    "print(naver_news_title[0])\n",
    "print(\"==================================\")\n",
    "print(naver_news_content[0])"
   ]
  },
  {
   "cell_type": "markdown",
   "metadata": {},
   "source": [
    "### 크롤링 결과 확인하기."
   ]
  },
  {
   "cell_type": "code",
   "execution_count": 15,
   "metadata": {},
   "outputs": [
    {
     "name": "stdout",
     "output_type": "stream",
     "text": [
      "['엘리스, ‘K-디지털 크레딧’ 과정 교육생 모집', '엘리스, ‘K-디지털 크레딧’ 과정 교육생 모집', '엘리스, ‘K-디지털 크레딧’ 과정 교육생 모집···\"100% 무료 수강\"']\n"
     ]
    }
   ],
   "source": [
    "print(naver_news_title[0])"
   ]
  },
  {
   "cell_type": "code",
   "execution_count": 16,
   "metadata": {},
   "outputs": [
    {
     "name": "stdout",
     "output_type": "stream",
     "text": [
      "['   본문 내용     TV플레이어     // TV플레이어     // flash 오류를 우회하기 위한 함수 추가 function _flash_removeCallback() {}      디지털 교육 실습 플랫폼 엘리스(대표 김재원)가 무료 수강이 가능한 ‘ K- 디지털 크레딧( K-Digital   Credit ,  KDC )’의 새로운 교육생을 모집한다.  K- 디지털 크레딧은 고용노동부가 청년, 중장년 구직자의 디지털 기초역량을 강화하기 위해 마련한 직업훈련의 일환으로 코딩, 빅데이터, 앱 개발 등 디지털 신기술 분야에서 입문 과정부터 교육받을 수 있다. 정부가 전체 교육비의  90 %를 지원하며, 이수 후엔  10 % 자부담비도  100 % 환급된다.  엘리스는 탁월한 플랫폼 기술력과 운영 노하우를 집약해 괄목할 만한 성과를 거뒀다. 지난해  KDC  교육생은  2020 년 대비  150 % 이상 증가했고, 교육 만족도는 5점 만점에 약  4.9 점을 기록하며 가파른 증가세를 보이고 있다. 엘리스 교육과정의 특징은 실습 중심 교육으로 불필요한 요소를 최소화해 동기부여와 학습효과를 극대화했다는 점이다. 로그인만 하면 단 3초 만에 바로 코딩 학습이 가능하며, 화면 전환 없이 한 화면에서 영상을 보며 코드 작성 및 검토도 할 수 있다. 클릭 한 번으로 작성한 코드를 모두 확인받고, 1:1 튜터링을 통해 현직 개발자과 신속하게 질의응답하며 교육에 대한 이해도를 높인다.  엘리스는 참여 교육 업체 중 최대 규모인  37 개 과목을 운영하며 뛰어난 교육 역량과 전문성을 인정받았다. 파이썬,  SQL , 인공지능 분야에서 코딩 경험이 전혀 없는 입문자를 위한 과정에서 고급 과정까지 다채롭게 구성돼 원하는 과목을 자유롭게 선택하면 된다. 세부 과목은 ▲파이썬 기초 프로그래밍 ▲ SQL  기초 ▲ JAVA  웹 개발 ▲웹 페이지 제작 ▲파이썬 데이터 분석 ▲R 데이터 분석 ▲인공지능 수학 ▲심화 머신러닝/딥러닝 ▲코딩 테스트 대비 알고리즘 ▲리눅스 ▲ git ,  gitlab  추천 교육과정 ▲ MongoDB  ▲블록 코딩 등이다. 엘리스는 훈련생을 위한 다양한 혜택을 준비했다. 정해진 수강과목을 수료한 우수자에겐 부트캠프 선발 단계를 일부 면제해 개발자로서의 커리어 시작을 적극 돕는다. 교육 이수 시 교육과정 이수증도 수여해 개인 역량을 인증해 준다.   엘리스 김재원 대표는 “엘리스의 디지털 크레딧 과정은 강의를 듣고 즉시 실습할 수 있도록 구현해서 코딩을 쉽고 재미있게 시작할 수 있는 좋은 기회”라며, “앞으로 훈련생에게 보다 효과적인 맞춤형 교육을 실시하기 위해 교육 과정을 확대 및 고도화할 예정”이라고 말했다. 매일경제 조광현 연구원  r_start //  r_end //    // 본문 내용   ', \"   본문 내용     TV플레이어     // TV플레이어     // flash 오류를 우회하기 위한 함수 추가 function _flash_removeCallback() {}    정부가 교육비  90 % 지원...이수 후 자기부담비 환급 디지털 교육 실습 플랫폼 엘리스가 무료 수강이 가능한 ‘ K- 디지털 크레딧( K-Digital   Credit ,  KDC )’ 새 교육생을 모집한다고  13 일 밝혔다. K- 디지털 크레딧은 고용노동부가 청년, 중장년 구직자 디지털 기초역량을 강화하기 위해 마련한 직업훈련으로, 수강생은 코딩, 빅데이터, 앱 개발 등 디지털 신기술 분야 입문 과정부터 교육받을 수 있다. 정부가 전체 교육비의  90 %를 지원하며, 이수 후엔  10 % 자부담비도  100 % 환급된다. 지난해  KDC  교육생은 전년동기 대비  150 % 이상 증가했고, 교육 만족도는 5점 만점에 약  4.9 점을 기록했다. 엘리스는 참여 교육 업체 중 최대 규모인  37 개 과목을 운영하며, 파이썬,  SQL , 인공지능 분야에서 코딩 경험이 전혀 없는 입문자를 위한 과정에서 고급 과정까지 구성헤 이용자가 원하는 과목을 자유롭게 선택할 수 있다. 엘리스  'K- 디지털 크레딧' 과정 세부 과목은 ▲파이썬 기초 프로그래밍 ▲ SQL  기초 ▲ JAVA  웹 개발 ▲웹 페이지 제작 ▲파이썬 데이터 분석 ▲R 데이터 분석 ▲인공지능 수학 ▲심화 머신러닝·딥러닝 ▲코딩 테스트 대비 알고리즘 ▲리눅스 ▲ git ,  gitlab  추천 교육과정 ▲ MongoDB  ▲블록 코딩 등이다. 엘리스 교육과정 특징은 실습 중심 교육으로 불필요한 요소를 최소화해 동기부여와 학습효과를 극대화했다는 점이다. 로그인만 하면 3초 만에 코딩 학습이 가능하며, 화면 전환 없이 한 화면에서 영상을 보며 코드 작성과 검토를 할 수 있다. 클릭 한 번으로 작성한 코드를 모두 확인받고, 1:1 튜터링을 통해 현직 개발자과 신속하게 질의응답하며 교육에 대한 이해도를 높인다. 엘리스는 훈련생을 위한 다양한 혜택을 준비했다. 정해진 수강과목을 수료한 우수자에게 부트캠프 선발 단계를 일부 면제해 개발자로서의 커리어 시작을 적극 돕는다. 교육 이수 시 교육과정 이수증도 수여할 방침이다. 김재원 엘리스 대표는 “디지털 크레딧 과정은 강의를 듣고 즉시 실습할 수 있도록 구현해 코딩을 쉽고 재미있게 시작할 수 있는 좋은 기회”라며 “앞으로 훈련생에게 보다 효과적인 맞춤형 교육을 실시하기 위해 교육 과정을 확대, 고도화할 예정”이라고 말했다.    // 본문 내용   \", '   본문 내용     TV플레이어     // TV플레이어     // flash 오류를 우회하기 위한 함수 추가 function _flash_removeCallback() {}    [서울경제]  디지털 교육 실습 플랫폼 엘리스가 무료 수강이 가능한 ‘ K- 디지털 크레딧( K-Digital   Credit ,  KDC )’의 새로운 교육생을 모집한다고  13 일 밝혔다.  K- 디지털 크레딧은 고용노동부가 청년·중장년 구직자의 디지털 기초역량을 강화하기 위해 마련한 직업훈련의 일환이다. 코딩, 빅데이터, 앱 개발 등 디지털 신기술 분야에서 입문 과정부터 교육 받을 수 있다. 정부가 전체 교육비의  90 %를 지원하며 이수 후엔  10 % 교육생이 부담한 비용  10 %도 전부 환급된다. 엘리스는 탁월한 플랫폼 기술력과 운영 노하우를 집약해 괄목할 만한 성과를 거뒀다. 지난해  KDC  교육생은  2020 년 대비  150 % 이상 증가했고, 교육 만족도는 5점 만점에 약  4.9 점을 기록하며 가파른 증가세를 보이고 있다.  엘리스 교육과정의 특징은 실습 중심 교육으로 불필요한 요소를 최소화해 동기부여와 학습효과를 극대화했다는 점이다. 로그인만 하면 단 3초 만에 바로 코딩 학습이 가능하며, 화면 전환 없이 한 화면에서 영상을 보며 코드 작성 및 검토도 할 수 있다. 클릭 한 번으로 작성한 코드를 모두 확인받고, 1:1 튜터링을 통해 현직 개발자과 신속하게 질의응답하며 교육에 대한 이해도를 높인다. 엘리스는 참여 교육 업체 중 최대 규모인  37 개 과목을 운영하며 뛰어난 교육 역량과 전문성을 인정 받았다. 파이썬,  SQL , 인공지능 분야에서 코딩 경험이 전혀 없는 입문자를 위한 과정에서 고급 과정까지 다채롭게 구성돼 원하는 과목을 자유롭게 선택하면 된다.  세부 과목은 △파이썬 기초 프로그래밍 △ SQL  기초 △ JAVA  웹 개발 △웹 페이지 제작 △파이썬 데이터 분석 △R 데이터 분석 △인공지능 수학 △심화 머신러닝·딥러닝 △코딩 테스트 대비 알고리즘 △리눅스 △ git·gitlab  추천 교육과정 △ MongoDB  △블록 코딩 등이다. 김재원 엘리스 대표는 “엘리스의 디지털 크레딧 과정은 강의를 듣고 즉시 실습할 수 있도록 구현해서 코딩을 쉽고 재미있게 시작할 수 있는 좋은 기회”라며 “앞으로 훈련생에게 보다 효과적인 맞춤형 교육을 실시하기 위해 교육 과정을 확대 및 고도화할 예정”이라고 말했다.    // 본문 내용   ']\n"
     ]
    }
   ],
   "source": [
    "print(naver_news_content[0])"
   ]
  },
  {
   "cell_type": "code",
   "execution_count": 17,
   "metadata": {},
   "outputs": [
    {
     "name": "stdout",
     "output_type": "stream",
     "text": [
      "3\n",
      "3\n"
     ]
    }
   ],
   "source": [
    "print(len(naver_news_title[0]))\n",
    "print(len(naver_news_content[0]))"
   ]
  },
  {
   "cell_type": "markdown",
   "metadata": {},
   "source": [
    "### 크롤링 결과 저장하기."
   ]
  },
  {
   "cell_type": "code",
   "execution_count": null,
   "metadata": {},
   "outputs": [],
   "source": [
    "with open(\"naver_news_title.pk\", 'wb') as f:\n",
    "    pickle.dump(naver_news_title, f)\n",
    "\n",
    "with open(\"naver_news_content.pk\",'wb') as f:\n",
    "    pickle.dump(naver_news_content, f)"
   ]
  },
  {
   "cell_type": "code",
   "execution_count": null,
   "metadata": {},
   "outputs": [],
   "source": []
  }
 ],
 "metadata": {
  "kernelspec": {
   "display_name": "Python 3",
   "language": "python",
   "name": "python3"
  },
  "language_info": {
   "codemirror_mode": {
    "name": "ipython",
    "version": 3
   },
   "file_extension": ".py",
   "mimetype": "text/x-python",
   "name": "python",
   "nbconvert_exporter": "python",
   "pygments_lexer": "ipython3",
   "version": "3.9.7"
  }
 },
 "nbformat": 4,
 "nbformat_minor": 2
}
